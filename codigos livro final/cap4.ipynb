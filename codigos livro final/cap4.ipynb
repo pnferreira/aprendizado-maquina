{
 "cells": [
  {
   "cell_type": "markdown",
   "id": "b0c1105c-f5fb-43c1-bb73-59128dcb1a83",
   "metadata": {},
   "source": [
    "## Seleção de características"
   ]
  },
  {
   "cell_type": "code",
   "execution_count": 1,
   "id": "49c1b07e-b386-4545-b068-e64345c27851",
   "metadata": {},
   "outputs": [],
   "source": [
    "from sklearn.datasets import fetch_california_housing\n",
    "from sklearn.feature_selection import VarianceThreshold, SelectFromModel\n",
    "from sklearn.linear_model import Lasso\n",
    "from sklearn.preprocessing import StandardScaler\n",
    "from sklearn.model_selection import train_test_split\n",
    "import pandas as pd\n",
    "\n",
    "# Load the California housing dataset\n",
    "data = fetch_california_housing()\n",
    "X = pd.DataFrame(data.data, columns=data.feature_names)\n",
    "y = pd.Series(data.target, name=\"target\")\n",
    "\n",
    "X_train, X_test, y_train, y_test = train_test_split(X, y, test_size=0.2, random_state=42)"
   ]
  },
  {
   "cell_type": "code",
   "execution_count": 2,
   "id": "efc21dfd-b7dc-4c0a-9aff-16e4ea203036",
   "metadata": {},
   "outputs": [
    {
     "data": {
      "text/plain": [
       "array(['MedInc', 'HouseAge', 'AveRooms', 'Population', 'AveOccup',\n",
       "       'Latitude', 'Longitude'], dtype=object)"
      ]
     },
     "execution_count": 2,
     "metadata": {},
     "output_type": "execute_result"
    }
   ],
   "source": [
    "from sklearn.feature_selection import VarianceThreshold\n",
    "sel = VarianceThreshold(threshold=0.2)\n",
    "# fit encontra as características constantes\n",
    "sel.fit(X_train)\n",
    "# nome das características selecionadas\n",
    "sel.get_feature_names_out()"
   ]
  },
  {
   "cell_type": "code",
   "execution_count": 3,
   "id": "4278259a-4cce-4059-b9d3-43f30dd11e16",
   "metadata": {},
   "outputs": [],
   "source": [
    "# Exclui as características constantes\n",
    "X_train_t = sel.transform(X_train)"
   ]
  },
  {
   "cell_type": "code",
   "execution_count": 4,
   "id": "36b0e5f7-8b8c-43dc-b95c-d239a22310fe",
   "metadata": {},
   "outputs": [
    {
     "data": {
      "text/plain": [
       "target        1.000000\n",
       "MedInc        0.690647\n",
       "AveRooms      0.158485\n",
       "HouseAge      0.103706\n",
       "AveOccup     -0.022030\n",
       "Population   -0.026032\n",
       "Longitude    -0.046349\n",
       "AveBedrms    -0.051351\n",
       "Latitude     -0.142983\n",
       "Name: target, dtype: float64"
      ]
     },
     "execution_count": 4,
     "metadata": {},
     "output_type": "execute_result"
    }
   ],
   "source": [
    "df = X_train.join(y_train)\n",
    "df.corr(method='pearson')['target'].sort_values(ascending=False)"
   ]
  },
  {
   "cell_type": "code",
   "execution_count": 5,
   "id": "9f2c6347-f135-4b84-b171-f4c6284fc1b1",
   "metadata": {},
   "outputs": [
    {
     "data": {
      "text/plain": [
       "Index(['MedInc', 'HouseAge', 'Latitude'], dtype='object')"
      ]
     },
     "execution_count": 5,
     "metadata": {},
     "output_type": "execute_result"
    }
   ],
   "source": [
    "from sklearn.feature_selection import SelectFromModel\n",
    "from sklearn.linear_model import Lasso\n",
    "scaler = StandardScaler()\n",
    "scaler.fit(X_train)\n",
    "\n",
    "sel = SelectFromModel(Lasso(alpha=0.1, random_state=42))\n",
    "sel.fit(scaler.transform(X_train), y_train)\n",
    "X_train.columns[(sel.get_support())]"
   ]
  },
  {
   "cell_type": "code",
   "execution_count": 6,
   "id": "ef5c2b16-eba8-4246-9c05-ba236704c5e9",
   "metadata": {},
   "outputs": [],
   "source": [
    "X_train_s = sel.transform(scaler.transform(X_train))"
   ]
  }
 ],
 "metadata": {
  "kernelspec": {
   "display_name": "Python 3 (ipykernel)",
   "language": "python",
   "name": "python3"
  },
  "language_info": {
   "codemirror_mode": {
    "name": "ipython",
    "version": 3
   },
   "file_extension": ".py",
   "mimetype": "text/x-python",
   "name": "python",
   "nbconvert_exporter": "python",
   "pygments_lexer": "ipython3",
   "version": "3.10.15"
  }
 },
 "nbformat": 4,
 "nbformat_minor": 5
}
